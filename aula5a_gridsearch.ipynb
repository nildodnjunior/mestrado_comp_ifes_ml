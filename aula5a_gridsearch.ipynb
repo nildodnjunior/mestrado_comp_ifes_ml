{
  "nbformat": 4,
  "nbformat_minor": 0,
  "metadata": {
    "colab": {
      "provenance": [],
      "include_colab_link": true
    },
    "kernelspec": {
      "name": "python3",
      "display_name": "Python 3"
    },
    "language_info": {
      "name": "python"
    }
  },
  "cells": [
    {
      "cell_type": "markdown",
      "metadata": {
        "id": "view-in-github",
        "colab_type": "text"
      },
      "source": [
        "<a href=\"https://colab.research.google.com/github/nildodnjunior/mestrado_comp_ifes_ml/blob/master/aula5a_gridsearch.ipynb\" target=\"_parent\"><img src=\"https://colab.research.google.com/assets/colab-badge.svg\" alt=\"Open In Colab\"/></a>"
      ]
    },
    {
      "cell_type": "markdown",
      "source": [
        "Dataset obtido em https://openml.org/search?type=data&status=active&id=44066"
      ],
      "metadata": {
        "id": "sw_Mf-UeAo9A"
      }
    },
    {
      "cell_type": "code",
      "source": [
        "from sklearn.datasets import fetch_openml\n",
        "house = fetch_openml(name='house_sales', version=7, parser='auto')\n",
        "X, y = house.data.to_numpy(), house.target.to_numpy()"
      ],
      "metadata": {
        "id": "JYrK_hJaSBHO"
      },
      "execution_count": 1,
      "outputs": []
    },
    {
      "cell_type": "code",
      "source": [
        "#Separação das bases de treino e teste\n",
        "from sklearn.model_selection import train_test_split\n",
        "\n",
        "Xtr, Xte, ytr, yte = train_test_split(X, y, test_size=0.2, random_state=42)\n",
        "Xtr.shape, ytr.shape, Xte.shape, yte.shape"
      ],
      "metadata": {
        "colab": {
          "base_uri": "https://localhost:8080/"
        },
        "id": "2n8w4APXwKhW",
        "outputId": "ff244681-38be-45f1-d986-290208cec877"
      },
      "execution_count": 2,
      "outputs": [
        {
          "output_type": "execute_result",
          "data": {
            "text/plain": [
              "((17290, 17), (17290,), (4323, 17), (4323,))"
            ]
          },
          "metadata": {},
          "execution_count": 2
        }
      ]
    },
    {
      "cell_type": "code",
      "source": [
        "from sklearn.linear_model import SGDRegressor\n",
        "from sklearn.model_selection import GridSearchCV, RandomizedSearchCV, RepeatedStratifiedKFold\n",
        "from sklearn.preprocessing import StandardScaler\n",
        "from sklearn.pipeline import Pipeline\n",
        "from sklearn.metrics import mean_squared_error, make_scorer, accuracy_score, roc_auc_score, recall_score\n",
        "import numpy as np\n",
        "from sklearn.model_selection import cross_validate\n",
        "from scipy.stats import randint\n",
        "\n",
        "pipe = Pipeline([\n",
        "    ('scaler', StandardScaler()),\n",
        "    ('clf', SGDRegressor())\n",
        "])\n",
        "params_SGD = {\n",
        "    'scaler__with_mean': [True, False],\n",
        "    'clf__penalty': ['l2', 'l1', 'elasticnet'],\n",
        "    'clf__max_iter': [1000, 2000, 5000]\n",
        "}\n",
        "\n",
        "modelo_aninhado_SGD = GridSearchCV(pipe, params_SGD, verbose=1, cv=5, scoring=make_scorer(mean_squared_error, greater_is_better=False,\n",
        "                                          squared=False))\n",
        "\n",
        "scores_SGD = cross_validate(modelo_aninhado_SGD, Xtr, ytr, cv=5, return_estimator=True,\n",
        "                        scoring=make_scorer(mean_squared_error, squared=False))\n",
        "\n",
        "print(f\"Média dos scores: {np.mean(scores_SGD['test_score'])}\")\n",
        "print(\"Melhores modelos:\")\n",
        "for modelo_SGD, score in zip(scores_SGD['estimator'], scores_SGD['test_score']):\n",
        "    print(modelo_SGD.best_params_, score)\n",
        "    print(modelo_SGD.cv_results_['std_test_score'])\n",
        "    print(f\"Métrica na base de teste: {mean_squared_error(yte, modelo_SGD.predict(Xte))}\")"
      ],
      "metadata": {
        "colab": {
          "base_uri": "https://localhost:8080/"
        },
        "id": "8R7nZYCyISQu",
        "outputId": "b6564f59-590d-46de-9d4a-d14ca6ba68e0"
      },
      "execution_count": null,
      "outputs": [
        {
          "output_type": "stream",
          "name": "stdout",
          "text": [
            "Fitting 5 folds for each of 18 candidates, totalling 90 fits\n",
            "Fitting 5 folds for each of 18 candidates, totalling 90 fits\n",
            "Fitting 5 folds for each of 18 candidates, totalling 90 fits\n",
            "Fitting 5 folds for each of 18 candidates, totalling 90 fits\n",
            "Fitting 5 folds for each of 18 candidates, totalling 90 fits\n",
            "Média dos scores: 0.2602996290293691\n",
            "Melhores modelos:\n",
            "{'clf__max_iter': 1000, 'clf__penalty': 'l2', 'scaler__with_mean': True} 0.2611841273313769\n",
            "[3.00361141e-03 6.56934712e+13 2.95415575e-03 1.07517017e+14\n",
            " 2.50699832e-03 1.12924303e+14 3.20151715e-03 8.29349066e+13\n",
            " 2.71877132e-03 9.40365721e+13 2.50848490e-03 1.32580840e+14\n",
            " 2.97764761e-03 1.13658490e+14 2.69624501e-03 1.32548702e+14\n",
            " 2.58967033e-03 1.11476551e+14]\n",
            "Métrica na base de teste: 0.06953748914999204\n",
            "{'clf__max_iter': 1000, 'clf__penalty': 'l2', 'scaler__with_mean': True} 0.2591397764689\n",
            "[3.17569685e-03 8.83054439e+13 3.26459703e-03 9.32429914e+13\n",
            " 3.06062197e-03 8.52565116e+13 3.55702190e-03 1.20568442e+14\n",
            " 3.50669969e-03 9.62936409e+13 2.76018049e-03 1.26105004e+14\n",
            " 3.14719590e-03 1.18410144e+14 3.38364969e-03 1.40237134e+14\n",
            " 3.21397135e-03 1.11136261e+14]\n",
            "Métrica na base de teste: 0.06975795317909954\n",
            "{'clf__max_iter': 1000, 'clf__penalty': 'l1', 'scaler__with_mean': True} 0.26000291723501257\n",
            "[3.34134122e-03 1.09791888e+14 3.47500033e-03 9.43558705e+13\n",
            " 3.25036736e-03 1.13948917e+14 3.18331186e-03 8.40613376e+13\n",
            " 3.42968335e-03 8.83564810e+13 3.38170789e-03 1.15120465e+14\n",
            " 2.98005036e-03 9.73590354e+13 3.40419418e-03 9.34307892e+13\n",
            " 3.48550908e-03 9.02598837e+13]\n",
            "Métrica na base de teste: 0.06930088130237984\n",
            "{'clf__max_iter': 2000, 'clf__penalty': 'l2', 'scaler__with_mean': True} 0.257131310379632\n",
            "[4.41831639e-03 6.91490495e+13 4.44506606e-03 1.30887306e+14\n",
            " 3.84439771e-03 1.14892102e+14 3.98744282e-03 1.05392952e+14\n",
            " 3.84689696e-03 1.24579177e+14 4.69083806e-03 1.03900312e+14\n",
            " 4.50379452e-03 1.02947265e+14 3.92270047e-03 1.22541022e+14\n",
            " 4.10628334e-03 1.15253463e+14]\n",
            "Métrica na base de teste: 0.07033677459332043\n",
            "{'clf__max_iter': 2000, 'clf__penalty': 'elasticnet', 'scaler__with_mean': True} 0.26404001373192393\n",
            "[3.66488556e-03 5.50634721e+13 3.26875265e-03 8.94392229e+13\n",
            " 3.38420994e-03 9.31853430e+13 3.60521834e-03 8.29648629e+13\n",
            " 3.30471554e-03 1.22757266e+14 3.33793699e-03 1.00279826e+14\n",
            " 2.79784231e-03 9.83497404e+13 3.04044863e-03 1.15216018e+14\n",
            " 3.70225442e-03 1.23570064e+14]\n",
            "Métrica na base de teste: 0.06956221555392289\n"
          ]
        }
      ]
    },
    {
      "cell_type": "code",
      "source": [
        "from sklearn.tree import DecisionTreeRegressor\n",
        "from sklearn.model_selection import GridSearchCV, RandomizedSearchCV, RepeatedStratifiedKFold\n",
        "from sklearn.preprocessing import StandardScaler\n",
        "from sklearn.pipeline import Pipeline\n",
        "from sklearn.metrics import mean_squared_error, make_scorer, accuracy_score, roc_auc_score, recall_score\n",
        "import numpy as np\n",
        "from sklearn.model_selection import cross_validate\n",
        "from scipy.stats import randint\n",
        "\n",
        "pipe = Pipeline([\n",
        "    ('scaler', StandardScaler()),\n",
        "    ('clf', DecisionTreeRegressor())\n",
        "])\n",
        "params_DT = {\n",
        "    'scaler__with_mean': [True, False],\n",
        "    'clf__max_depth': [1, 5, 10, 20],\n",
        "    'clf__criterion': ['squared_error', 'friedman_mse', 'absolute_error']\n",
        "}\n",
        "\n",
        "modelo_aninhado_DT = GridSearchCV(pipe, params_DT, verbose=1, cv=5, scoring=make_scorer(mean_squared_error, greater_is_better=False,\n",
        "                                          squared=False))\n",
        "\n",
        "scores_DT = cross_validate(modelo_aninhado_DT, Xtr, ytr, cv=5, return_estimator=True,\n",
        "                        scoring=make_scorer(mean_squared_error, squared=False))\n",
        "\n",
        "print(f\"Média dos scores: {np.mean(scores_DT['test_score'])}\")\n",
        "print(\"Melhores modelos:\")\n",
        "for modelo_DT, score in zip(scores_DT['estimator'], scores_DT['test_score']):\n",
        "    print(modelo_DT.best_params_, score)\n",
        "    print(modelo_DT.cv_results_['std_test_score'])\n",
        "    print(f\"Métrica na base de teste: {mean_squared_error(yte, modelo_DT.predict(Xte))}\")"
      ],
      "metadata": {
        "colab": {
          "base_uri": "https://localhost:8080/"
        },
        "id": "byKo7lOp_HgM",
        "outputId": "0ca7a266-1482-4937-9ab7-e193db8e1308"
      },
      "execution_count": null,
      "outputs": [
        {
          "output_type": "stream",
          "name": "stdout",
          "text": [
            "Fitting 5 folds for each of 24 candidates, totalling 120 fits\n",
            "Fitting 5 folds for each of 24 candidates, totalling 120 fits\n",
            "Fitting 5 folds for each of 24 candidates, totalling 120 fits\n",
            "Fitting 5 folds for each of 24 candidates, totalling 120 fits\n",
            "Fitting 5 folds for each of 24 candidates, totalling 120 fits\n",
            "Média dos scores: 0.22441088350638055\n",
            "Melhores modelos:\n",
            "{'clf__criterion': 'friedman_mse', 'clf__max_depth': 10, 'scaler__with_mean': True} 0.22755020782382554\n",
            "[0.00399482 0.00399482 0.00294084 0.0029277  0.00292256 0.00255492\n",
            " 0.00217296 0.00567085 0.00399482 0.00399482 0.00294084 0.0029277\n",
            " 0.00334107 0.00252693 0.00263183 0.00140973 0.00499685 0.00499685\n",
            " 0.00260407 0.00261509 0.00230979 0.00309317 0.00463944 0.00494244]\n",
            "Métrica na base de teste: 0.04920356229804995\n",
            "{'clf__criterion': 'absolute_error', 'clf__max_depth': 10, 'scaler__with_mean': False} 0.22338017817758235\n",
            "[0.00588204 0.00588204 0.0047512  0.00477521 0.00556982 0.00438031\n",
            " 0.00388678 0.00497845 0.00588204 0.00588204 0.0047512  0.00477521\n",
            " 0.0055516  0.00702241 0.00501972 0.00468087 0.00620225 0.00620225\n",
            " 0.00347481 0.00347481 0.00361155 0.00407574 0.00327349 0.0019013 ]\n",
            "Métrica na base de teste: 0.05204200590731514\n",
            "{'clf__criterion': 'squared_error', 'clf__max_depth': 10, 'scaler__with_mean': False} 0.22083460546086564\n",
            "[0.00584885 0.00584885 0.00640979 0.00642834 0.00432271 0.00572816\n",
            " 0.00512615 0.00745281 0.00584885 0.00584885 0.00640979 0.00642834\n",
            " 0.00454153 0.00627091 0.0064968  0.008152   0.00658876 0.00658876\n",
            " 0.00557233 0.0055742  0.00274574 0.00467244 0.00280627 0.00379332]\n",
            "Métrica na base de teste: 0.04907135629403644\n",
            "{'clf__criterion': 'squared_error', 'clf__max_depth': 10, 'scaler__with_mean': False} 0.22639747703076596\n",
            "[0.0078696  0.0078696  0.00452144 0.00452144 0.00568231 0.00609107\n",
            " 0.00434415 0.00556709 0.0078696  0.0078696  0.00467476 0.00467476\n",
            " 0.00564913 0.00494092 0.00508946 0.00417845 0.00822866 0.00822866\n",
            " 0.00431705 0.0043161  0.00487614 0.0044701  0.00671435 0.00428508]\n",
            "Métrica na base de teste: 0.05193140828197138\n",
            "{'clf__criterion': 'friedman_mse', 'clf__max_depth': 10, 'scaler__with_mean': True} 0.2238919490388632\n",
            "[0.00753343 0.00753343 0.00536709 0.00537265 0.00450424 0.0040753\n",
            " 0.00552395 0.00330454 0.00753343 0.00753343 0.00536709 0.00537265\n",
            " 0.00445376 0.00445509 0.00379027 0.00346757 0.0055095  0.0055095\n",
            " 0.00255098 0.00256612 0.00422125 0.00434076 0.00414404 0.00385953]\n",
            "Métrica na base de teste: 0.05072527292517625\n"
          ]
        }
      ]
    }
  ]
}