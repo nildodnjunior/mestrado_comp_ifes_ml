{
  "nbformat": 4,
  "nbformat_minor": 0,
  "metadata": {
    "colab": {
      "provenance": [],
      "authorship_tag": "ABX9TyNWhPB519xlymUdCQoLiVCr",
      "include_colab_link": true
    },
    "kernelspec": {
      "name": "python3",
      "display_name": "Python 3"
    },
    "language_info": {
      "name": "python"
    }
  },
  "cells": [
    {
      "cell_type": "markdown",
      "metadata": {
        "id": "view-in-github",
        "colab_type": "text"
      },
      "source": [
        "<a href=\"https://colab.research.google.com/github/nildodnjunior/mestrado_comp_ifes_ml/blob/master/backpropagation.ipynb\" target=\"_parent\"><img src=\"https://colab.research.google.com/assets/colab-badge.svg\" alt=\"Open In Colab\"/></a>"
      ]
    },
    {
      "cell_type": "code",
      "execution_count": 81,
      "metadata": {
        "id": "6sWSZF-_o0xu"
      },
      "outputs": [],
      "source": [
        "import numpy as np\n",
        "from sklearn.datasets import make_blobs\n",
        "import matplotlib.pyplot as plt\n",
        "from sklearn.base import BaseEstimator, ClassifierMixin\n",
        "from sklearn.metrics import accuracy_score\n",
        "from scipy.special import expit\n",
        "from sklearn.preprocessing import label_binarize\n",
        "from abc import ABC, abstractmethod\n",
        "from sklearn.model_selection import cross_validate\n",
        "from sklearn.neural_network import MLPClassifier\n",
        "import warnings\n",
        "from sklearn.exceptions import ConvergenceWarning"
      ]
    },
    {
      "cell_type": "code",
      "source": [
        "def sign(a):\n",
        "    return (a>0)*2 - 1\n",
        "\n",
        "def criaDataset(n=100, centros=3):\n",
        "    X, y = make_blobs(n_samples=n, centers=centros, cluster_std=0.2)\n",
        "    return X, y\n",
        "\n",
        "def criaDatasetDificil(n=100, centros=10):\n",
        "    X, y = make_blobs(n_samples=n, centers=centros, cluster_std=0.1)\n",
        "    y = sign(np.array(y%2, dtype=int))\n",
        "    return X, y\n",
        "\n",
        "def plotDataset(X, y):\n",
        "    plt.xlabel('x1')\n",
        "    plt.ylabel('x2')\n",
        "    for k in set(y):\n",
        "        plt.plot(X[:,0][y==k], X[:,1][y==k], 'o', alpha=0.3)\n",
        "\n",
        "def defineAxes(X):\n",
        "    offset = 0.5\n",
        "    min1, max1 = X[:,0].min(), X[:,0].max()\n",
        "    min2, max2 = X[:,1].min(), X[:,1].max()\n",
        "    return [min1-offset, max1+offset, min2-offset, max2+offset]\n",
        "\n",
        "def plotPredictions(clf, X):\n",
        "    axes = defineAxes(X)\n",
        "    x0s = np.linspace(axes[0], axes[1], 100)\n",
        "    x1s = np.linspace(axes[2], axes[3], 100)\n",
        "    x0, x1 = np.meshgrid(x0s, x1s)\n",
        "    X = np.c_[x0.ravel(), x1.ravel()]\n",
        "    y_pred = clf.predict(X).reshape(x0.shape)\n",
        "    plt.contourf(x0, x1, y_pred, cmap=plt.cm.brg, aplha=0.2)\n",
        "\n",
        "def include_bias(X):\n",
        "    bias = np.ones((X.shape[0], 1))\n",
        "    Xb = np.concatenate((bias, X), axis=1)\n",
        "    return Xb"
      ],
      "metadata": {
        "id": "OnyUPRW9ROrF"
      },
      "execution_count": 5,
      "outputs": []
    },
    {
      "cell_type": "markdown",
      "source": [
        "###Funções de ativação"
      ],
      "metadata": {
        "id": "2yrOqNkYvcMi"
      }
    },
    {
      "cell_type": "code",
      "source": [
        "class ActivationFunction(ABC):\n",
        "  @abstractmethod\n",
        "  def forward(a):\n",
        "    pass\n",
        "  @abstractmethod\n",
        "  def backward(a):\n",
        "    pass\n",
        "\n",
        "class TanH(ActivationFunction):\n",
        "  def forward(self, a):\n",
        "    return expit(a)*2-1\n",
        "  def backward(self, a):\n",
        "    return (1 - np.square(self.forward(a)))\n",
        "\n",
        "class Sigmoid(ActivationFunction):\n",
        "  def forward(self, a):\n",
        "    return expit(a)\n",
        "  def backward(self, a):\n",
        "    return self.forward(a) * (1 - self.forward(a))\n",
        "\n",
        "#Implementação da função de ativação ReLU:\n",
        "class ReLU(ActivationFunction):\n",
        "    def forward(self, a):\n",
        "        return np.maximum(a, np.zeros(shape=a.shape))\n",
        "    def backward(self, a):\n",
        "        return (a > 0) * 1"
      ],
      "metadata": {
        "id": "XvEJci4Mikez"
      },
      "execution_count": 127,
      "outputs": []
    },
    {
      "cell_type": "code",
      "source": [
        "\"\"\"\n",
        "Função de backpropagation. Cada item da lista do parâmetro n_hidden corresponde à quantidade\n",
        "de neurônios daquela camada da rede neural. O parâmetro activation contém as funções\n",
        "de ativação que serão aplicadas a cada camada da rede e deve ter o mesmo shape\n",
        "de n_hidden; aceita as funções TanH, Sigmoid e ReLU.\n",
        "\"\"\"\n",
        "class Backpropagation(BaseEstimator, ClassifierMixin):\n",
        "    def __init__(self, max_iter=1000, learning_rate=0.005, n_hidden=[2],\n",
        "                 activation=[TanH()]):\n",
        "        self.max_iter = max_iter\n",
        "        self.learning_rate = learning_rate\n",
        "        self.n_hidden = n_hidden\n",
        "        self.activation = activation\n",
        "\n",
        "    def forward(self, X):\n",
        "        self.A = []\n",
        "        self.Z = []\n",
        "        AUX = X.copy()\n",
        "        for W in self.Ws:\n",
        "            self.A.append(include_bias(AUX))\n",
        "            self.Z.append(self.A[-1] @ W)\n",
        "            AUX = self.activation[-1].forward(self.Z[-1])\n",
        "        return AUX\n",
        "\n",
        "    def backward(self, X, y, ypred):\n",
        "        grads = []\n",
        "        output_delta = y - ypred\n",
        "        grads.insert(0, self.A[-1].T @ output_delta)\n",
        "        for i in range(len(self.Ws)-1, 0, -1):\n",
        "            tanh_grad = self.activation[i-1].backward(self.Z[i-1])\n",
        "            input_delta = (output_delta @ self.Ws[i][1:,:].T)*tanh_grad\n",
        "            grads.insert(0, self.A[i-1].T @ input_delta)\n",
        "            output_delta = input_delta.copy()\n",
        "        for i in range(len(self.Ws)-1, -1, -1):\n",
        "            self.Ws[i] += grads[i] * self.learning_rate\n",
        "\n",
        "    def encode_labels(self, y):\n",
        "        self.labels = list(set(y))\n",
        "        return label_binarize(y, classes=self.labels)*2 - 1\n",
        "\n",
        "    def fit(self, X, y):\n",
        "        yhot = self.encode_labels(y)\n",
        "        self.Ws = []\n",
        "        previous_output = X.shape[1]\n",
        "        for layer_size in self.n_hidden:\n",
        "            self.Ws.append(np.random.uniform(-1, 1, size=(previous_output+1, layer_size)))\n",
        "            previous_output = self.Ws[-1].shape[1]\n",
        "        self.Ws.append(np.random.uniform(-1, 1, size=(previous_output+1, yhot.shape[1])))\n",
        "        for _ in range(self.max_iter):\n",
        "            ypred = self.forward(X)\n",
        "            self.backward(X, yhot, ypred)\n",
        "\n",
        "    def predict(self, X):\n",
        "        a = self.forward(X)\n",
        "        if len(self.labels) <= 2:\n",
        "            idx = np.array(a>0, dtype=int).reshape(-1,)\n",
        "        else:\n",
        "            idx = np.argmax(a, axis=1)\n",
        "        ypred = np.array([self.labels[i] for i in idx])\n",
        "        return ypred"
      ],
      "metadata": {
        "id": "AJzSAP94TLDv"
      },
      "execution_count": 135,
      "outputs": []
    },
    {
      "cell_type": "code",
      "source": [
        "X, y = criaDatasetDificil(centros=50)\n",
        "plotDataset(X, y)"
      ],
      "metadata": {
        "colab": {
          "base_uri": "https://localhost:8080/",
          "height": 449
        },
        "id": "voJ-5p_DM4Wi",
        "outputId": "e8bf4ee2-9e72-4eca-ca8a-0fc6cbcb1891"
      },
      "execution_count": 55,
      "outputs": [
        {
          "output_type": "display_data",
          "data": {
            "text/plain": [
              "<Figure size 640x480 with 1 Axes>"
            ],
            "image/png": "[encoded data removed]"
          },
          "metadata": {}
        }
      ]
    },
    {
      "cell_type": "markdown",
      "source": [
        "###Criando uma rede neural criada neste notebook e uma criada pelo Scikit-learn com os mesmos parâmetros e mostrando os resultados.\n",
        "Como exemplo, foram criadas redes neurais com 3 camadas, com 100, 100 e 50 neurônios cada, usando a função de ativação TanH em cada camada.\n",
        "\n",
        "Em média, de acordo com o resultado encontrado, o MLP do scikit-learn geralmente encontra scores um maiores para esse caso. Porém, foi necessário aumentar o número máximo de iterações, senão encontrava resultados piores. Foi utilizado o valor max_iter=1000."
      ],
      "metadata": {
        "id": "sx9HD_DathAw"
      }
    },
    {
      "cell_type": "code",
      "source": [
        "scores = cross_validate(Backpropagation(n_hidden=[100, 100, 50], activation=[TanH(), TanH(), TanH()]), X, y)\n",
        "print(\"Scores da rede criada (Tanh):\")\n",
        "print(scores['test_score'], np.mean(scores['test_score']))\n",
        "\n",
        "scores_sklearn = cross_validate(MLPClassifier(hidden_layer_sizes=[100, 100, 50],\n",
        "                                              activation='tanh', learning_rate_init=0.005,\n",
        "                                              max_iter=1000), X, y)\n",
        "print('Scores do MLP do scikit-learn (Tanh):')\n",
        "print(scores_sklearn['test_score'], np.mean(scores_sklearn['test_score']))\n",
        "\n",
        "scores = cross_validate(Backpropagation(n_hidden=[100, 100, 50], activation=[Sigmoid(), Sigmoid(), Sigmoid()]), X, y)\n",
        "print(\"\\nScores da rede criada (Sigmoid):\")\n",
        "print(scores['test_score'], np.mean(scores['test_score']))\n",
        "\n",
        "scores_sklearn = cross_validate(MLPClassifier(hidden_layer_sizes=[100, 100, 50],\n",
        "                                              activation='logistic', learning_rate_init=0.005,\n",
        "                                              max_iter=1000), X, y)\n",
        "print('\\nScores do MLP do scikit-learn (Sigmoid):')\n",
        "print(scores_sklearn['test_score'], np.mean(scores_sklearn['test_score']))"
      ],
      "metadata": {
        "colab": {
          "base_uri": "https://localhost:8080/"
        },
        "id": "xVUPu4M2kiwo",
        "outputId": "7abf5f2f-630e-4c52-c818-1829dc2d0b0d"
      },
      "execution_count": 151,
      "outputs": [
        {
          "output_type": "stream",
          "name": "stdout",
          "text": [
            "Scores da rede criada (Tanh):\n",
            "[0.7  0.8  0.65 0.85 0.9 ] 0.78\n",
            "Scores do MLP do scikit-learn (Tanh):\n",
            "[0.75 0.75 0.7  0.95 0.95] 0.8200000000000001\n",
            "\n",
            "Scores da rede criada (Sigmoid):\n",
            "[0.75 0.6  0.6  0.65 0.8 ] 0.68\n",
            "\n",
            "Scores do MLP do scikit-learn (Sigmoid):\n",
            "[0.75 0.75 0.7  0.95 0.9 ] 0.8100000000000002\n"
          ]
        }
      ]
    }
  ]
}