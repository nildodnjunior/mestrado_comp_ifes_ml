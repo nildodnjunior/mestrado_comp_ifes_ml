{
  "nbformat": 4,
  "nbformat_minor": 0,
  "metadata": {
    "colab": {
      "provenance": [],
      "authorship_tag": "ABX9TyNtHN0o6Kj30jf6qFdtYpsL",
      "include_colab_link": true
    },
    "kernelspec": {
      "name": "python3",
      "display_name": "Python 3"
    },
    "language_info": {
      "name": "python"
    }
  },
  "cells": [
    {
      "cell_type": "markdown",
      "metadata": {
        "id": "view-in-github",
        "colab_type": "text"
      },
      "source": [
        "<a href=\"https://colab.research.google.com/github/nildodnjunior/mestrado_comp_ifes_ml/blob/master/feature_selection.ipynb\" target=\"_parent\"><img src=\"https://colab.research.google.com/assets/colab-badge.svg\" alt=\"Open In Colab\"/></a>"
      ]
    },
    {
      "cell_type": "code",
      "execution_count": 12,
      "metadata": {
        "id": "N5dMYuSqDPnR"
      },
      "outputs": [],
      "source": [
        "from sklearn.datasets import fetch_covtype\n",
        "from sklearn.model_selection import train_test_split\n",
        "\n",
        "data = fetch_covtype()\n",
        "X, y = data['data'], data['target']"
      ]
    },
    {
      "cell_type": "code",
      "source": [
        "#Separando em treino e teste\n",
        "X_tr, X_te, y_tr, y_te = train_test_split(X, y, train_size=0.5)"
      ],
      "metadata": {
        "id": "3xMKJc4-IYbO"
      },
      "execution_count": 13,
      "outputs": []
    },
    {
      "cell_type": "code",
      "source": [
        "#Calculando score inicial, sem nenhuma seleção de característica\n",
        "modelo2 = RandomForestClassifier(random_state=42)\n",
        "modelo2.fit(X_tr, y_tr)\n",
        "\n",
        "score = accuracy_score(y_te, modelo2.predict(X_te))\n",
        "print(score)"
      ],
      "metadata": {
        "colab": {
          "base_uri": "https://localhost:8080/"
        },
        "id": "7VctQv8DKZYc",
        "outputId": "fbcc3c31-9609-4f8d-8b2b-d2cc627def03"
      },
      "execution_count": 17,
      "outputs": [
        {
          "output_type": "stream",
          "name": "stdout",
          "text": [
            "0.9446276496870977\n"
          ]
        }
      ]
    },
    {
      "cell_type": "code",
      "source": [
        "from sklearn.feature_selection import SelectKBest, SelectPercentile, f_regression, f_classif\n",
        "from sklearn.metrics import accuracy_score\n",
        "from sklearn.ensemble import RandomForestClassifier"
      ],
      "metadata": {
        "id": "Rubbk7b3DoHa"
      },
      "execution_count": 11,
      "outputs": []
    },
    {
      "cell_type": "code",
      "source": [
        "scores = []\n",
        "#Calculando os scores para cada caso de seleção de características, 2 a 2. Ao fim, o melhor score obtido foi para k=38\n",
        "for k in range(2, X.shape[1], 2):\n",
        "    selector = SelectKBest(score_func=f_classif, k=k)\n",
        "    X_tr2 = selector.fit_transform(X_tr, y_tr)\n",
        "    X_te2 = selector.transform(X_te)\n",
        "\n",
        "    modelo = RandomForestClassifier(random_state=42)\n",
        "    modelo.fit(X_tr2, y_tr)\n",
        "\n",
        "    score_sel = accuracy_score(y_te, modelo.predict(X_te2))\n",
        "    print(f'K:{k}, score:{score_sel}')\n",
        "    scores.append(score_sel)\n"
      ],
      "metadata": {
        "colab": {
          "base_uri": "https://localhost:8080/"
        },
        "id": "iN5oVZHAHIx8",
        "outputId": "1020263b-69ce-4faf-eb11-0a0eeb7e27b8"
      },
      "execution_count": 22,
      "outputs": [
        {
          "output_type": "stream",
          "name": "stdout",
          "text": [
            "K:2, score:0.6725196725713066\n",
            "K:4, score:0.6792665211734009\n",
            "K:6, score:0.6821752390656303\n",
            "K:8, score:0.6889461835555892\n",
            "K:10, score:0.7118923533420997\n",
            "K:12, score:0.7820561365341852\n",
            "K:14, score:0.9090517923898301\n",
            "K:16, score:0.9143046959443178\n",
            "K:18, score:0.915764218294975\n",
            "K:20, score:0.9207073175769175\n",
            "K:22, score:0.9301597901592394\n",
            "K:24, score:0.9288930349114992\n",
            "K:26, score:0.947863383200347\n",
            "K:28, score:0.9469374126524065\n",
            "K:30, score:0.9476499624792604\n",
            "K:32, score:0.9494227313721575\n",
            "K:34, score:0.9502592029080295\n",
            "K:36, score:0.9503314905716234\n",
            "K:38, score:0.9506516216532533\n",
            "K:40, score:0.9460389802620256\n",
            "K:42, score:0.9452816809291374\n",
            "K:44, score:0.9447446868567259\n",
            "K:46, score:0.943846254466345\n",
            "K:48, score:0.9436087378573936\n",
            "K:50, score:0.9459563657893468\n",
            "K:52, score:0.9455398511562584\n"
          ]
        }
      ]
    },
    {
      "cell_type": "code",
      "source": [
        "#Calculando score para o melhor k encontrado acima, ficou um pouco melhor do que o exemplo inicial sem seleção\n",
        "selector_f = SelectKBest(score_func=f_classif, k=38)\n",
        "X_trf = selector.fit_transform(X_tr, y_tr)\n",
        "X_tef = selector.transform(X_te)\n",
        "\n",
        "modelo_f = RandomForestClassifier(random_state=42)\n",
        "modelo.fit(X_trf, y_tr)\n",
        "\n",
        "score_f = accuracy_score(y_te, modelo.predict(X_tef))\n",
        "print(score_f)"
      ],
      "metadata": {
        "colab": {
          "base_uri": "https://localhost:8080/"
        },
        "id": "mwcA2ceMWvIK",
        "outputId": "8b21f2d6-12de-4eff-d893-a783d90e0022"
      },
      "execution_count": 24,
      "outputs": [
        {
          "output_type": "stream",
          "name": "stdout",
          "text": [
            "0.9455398511562584\n"
          ]
        }
      ]
    }
  ]
}